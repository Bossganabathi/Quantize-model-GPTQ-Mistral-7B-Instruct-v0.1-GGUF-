{
 "cells": [
  {
   "cell_type": "code",
   "execution_count": 1,
   "metadata": {},
   "outputs": [
    {
     "name": "stdout",
     "output_type": "stream",
     "text": [
      "Collecting optimum\n",
      "  Downloading optimum-1.17.1-py3-none-any.whl (407 kB)\n",
      "\u001b[2K     \u001b[90m━━━━━━━━━━━━━━━━━━━━━━━━━━━━━━━━━━━━━━\u001b[0m \u001b[32m407.1/407.1 kB\u001b[0m \u001b[31m15.2 MB/s\u001b[0m eta \u001b[36m0:00:00\u001b[0m\n",
      "\u001b[?25hRequirement already satisfied: coloredlogs in /scratch/miniconda3/envs/ganaquantize/lib/python3.11/site-packages (from optimum) (15.0.1)\n",
      "Requirement already satisfied: sympy in /scratch/miniconda3/envs/ganaquantize/lib/python3.11/site-packages (from optimum) (1.12)\n",
      "Requirement already satisfied: transformers[sentencepiece]>=4.26.0 in /scratch/miniconda3/envs/ganaquantize/lib/python3.11/site-packages (from optimum) (4.37.2)\n",
      "Requirement already satisfied: torch>=1.11 in /scratch/miniconda3/envs/ganaquantize/lib/python3.11/site-packages (from optimum) (2.0.1+rocm5.4.2)\n",
      "Requirement already satisfied: packaging in /scratch/miniconda3/envs/ganaquantize/lib/python3.11/site-packages (from optimum) (23.1)\n",
      "Requirement already satisfied: numpy in /scratch/miniconda3/envs/ganaquantize/lib/python3.11/site-packages (from optimum) (1.25.0)\n",
      "Requirement already satisfied: huggingface-hub>=0.8.0 in /scratch/miniconda3/envs/ganaquantize/lib/python3.11/site-packages (from optimum) (0.20.3)\n",
      "Requirement already satisfied: datasets in /scratch/miniconda3/envs/ganaquantize/lib/python3.11/site-packages (from optimum) (2.11.0)\n",
      "Requirement already satisfied: filelock in /scratch/miniconda3/envs/ganaquantize/lib/python3.11/site-packages (from huggingface-hub>=0.8.0->optimum) (3.12.2)\n",
      "Requirement already satisfied: fsspec>=2023.5.0 in /scratch/miniconda3/envs/ganaquantize/lib/python3.11/site-packages (from huggingface-hub>=0.8.0->optimum) (2023.6.0)\n",
      "Requirement already satisfied: requests in /scratch/miniconda3/envs/ganaquantize/lib/python3.11/site-packages (from huggingface-hub>=0.8.0->optimum) (2.31.0)\n",
      "Requirement already satisfied: tqdm>=4.42.1 in /scratch/miniconda3/envs/ganaquantize/lib/python3.11/site-packages (from huggingface-hub>=0.8.0->optimum) (4.65.0)\n",
      "Requirement already satisfied: pyyaml>=5.1 in /scratch/miniconda3/envs/ganaquantize/lib/python3.11/site-packages (from huggingface-hub>=0.8.0->optimum) (6.0)\n",
      "Requirement already satisfied: typing-extensions>=3.7.4.3 in /scratch/miniconda3/envs/ganaquantize/lib/python3.11/site-packages (from huggingface-hub>=0.8.0->optimum) (4.6.3)\n",
      "Requirement already satisfied: networkx in /scratch/miniconda3/envs/ganaquantize/lib/python3.11/site-packages (from torch>=1.11->optimum) (3.1)\n",
      "Requirement already satisfied: jinja2 in /scratch/miniconda3/envs/ganaquantize/lib/python3.11/site-packages (from torch>=1.11->optimum) (3.1.2)\n",
      "Requirement already satisfied: pytorch-triton-rocm<2.1,>=2.0.0 in /scratch/miniconda3/envs/ganaquantize/lib/python3.11/site-packages (from torch>=1.11->optimum) (2.0.1)\n",
      "Requirement already satisfied: regex!=2019.12.17 in /scratch/miniconda3/envs/ganaquantize/lib/python3.11/site-packages (from transformers[sentencepiece]>=4.26.0->optimum) (2023.6.3)\n",
      "Requirement already satisfied: tokenizers<0.19,>=0.14 in /scratch/miniconda3/envs/ganaquantize/lib/python3.11/site-packages (from transformers[sentencepiece]>=4.26.0->optimum) (0.15.1)\n",
      "Requirement already satisfied: safetensors>=0.4.1 in /scratch/miniconda3/envs/ganaquantize/lib/python3.11/site-packages (from transformers[sentencepiece]>=4.26.0->optimum) (0.4.2)\n",
      "Requirement already satisfied: sentencepiece!=0.1.92,>=0.1.91 in /scratch/miniconda3/envs/ganaquantize/lib/python3.11/site-packages (from transformers[sentencepiece]>=4.26.0->optimum) (0.1.99)\n",
      "Requirement already satisfied: protobuf in /scratch/miniconda3/envs/ganaquantize/lib/python3.11/site-packages (from transformers[sentencepiece]>=4.26.0->optimum) (4.23.3)\n",
      "Requirement already satisfied: humanfriendly>=9.1 in /scratch/miniconda3/envs/ganaquantize/lib/python3.11/site-packages (from coloredlogs->optimum) (10.0)\n",
      "Requirement already satisfied: pyarrow>=8.0.0 in /scratch/miniconda3/envs/ganaquantize/lib/python3.11/site-packages (from datasets->optimum) (12.0.1)\n",
      "Requirement already satisfied: dill<0.3.7,>=0.3.0 in /scratch/miniconda3/envs/ganaquantize/lib/python3.11/site-packages (from datasets->optimum) (0.3.6)\n",
      "Requirement already satisfied: pandas in /scratch/miniconda3/envs/ganaquantize/lib/python3.11/site-packages (from datasets->optimum) (2.0.2)\n",
      "Requirement already satisfied: xxhash in /scratch/miniconda3/envs/ganaquantize/lib/python3.11/site-packages (from datasets->optimum) (3.2.0)\n",
      "Requirement already satisfied: multiprocess in /scratch/miniconda3/envs/ganaquantize/lib/python3.11/site-packages (from datasets->optimum) (0.70.14)\n",
      "Requirement already satisfied: aiohttp in /scratch/miniconda3/envs/ganaquantize/lib/python3.11/site-packages (from datasets->optimum) (3.8.4)\n",
      "Requirement already satisfied: responses<0.19 in /scratch/miniconda3/envs/ganaquantize/lib/python3.11/site-packages (from datasets->optimum) (0.18.0)\n",
      "Requirement already satisfied: mpmath>=0.19 in /scratch/miniconda3/envs/ganaquantize/lib/python3.11/site-packages (from sympy->optimum) (1.3.0)\n",
      "Requirement already satisfied: attrs>=17.3.0 in /scratch/miniconda3/envs/ganaquantize/lib/python3.11/site-packages (from aiohttp->datasets->optimum) (23.1.0)\n",
      "Requirement already satisfied: charset-normalizer<4.0,>=2.0 in /scratch/miniconda3/envs/ganaquantize/lib/python3.11/site-packages (from aiohttp->datasets->optimum) (3.1.0)\n",
      "Requirement already satisfied: multidict<7.0,>=4.5 in /scratch/miniconda3/envs/ganaquantize/lib/python3.11/site-packages (from aiohttp->datasets->optimum) (6.0.4)\n",
      "Requirement already satisfied: async-timeout<5.0,>=4.0.0a3 in /scratch/miniconda3/envs/ganaquantize/lib/python3.11/site-packages (from aiohttp->datasets->optimum) (4.0.2)\n",
      "Requirement already satisfied: yarl<2.0,>=1.0 in /scratch/miniconda3/envs/ganaquantize/lib/python3.11/site-packages (from aiohttp->datasets->optimum) (1.9.2)\n",
      "Requirement already satisfied: frozenlist>=1.1.1 in /scratch/miniconda3/envs/ganaquantize/lib/python3.11/site-packages (from aiohttp->datasets->optimum) (1.3.3)\n",
      "Requirement already satisfied: aiosignal>=1.1.2 in /scratch/miniconda3/envs/ganaquantize/lib/python3.11/site-packages (from aiohttp->datasets->optimum) (1.3.1)\n",
      "Requirement already satisfied: cmake in /scratch/miniconda3/envs/ganaquantize/lib/python3.11/site-packages (from pytorch-triton-rocm<2.1,>=2.0.0->torch>=1.11->optimum) (3.26.4)\n",
      "Requirement already satisfied: lit in /scratch/miniconda3/envs/ganaquantize/lib/python3.11/site-packages (from pytorch-triton-rocm<2.1,>=2.0.0->torch>=1.11->optimum) (16.0.6)\n",
      "Requirement already satisfied: idna<4,>=2.5 in /scratch/miniconda3/envs/ganaquantize/lib/python3.11/site-packages (from requests->huggingface-hub>=0.8.0->optimum) (3.4)\n",
      "Requirement already satisfied: urllib3<3,>=1.21.1 in /scratch/miniconda3/envs/ganaquantize/lib/python3.11/site-packages (from requests->huggingface-hub>=0.8.0->optimum) (2.0.3)\n",
      "Requirement already satisfied: certifi>=2017.4.17 in /scratch/miniconda3/envs/ganaquantize/lib/python3.11/site-packages (from requests->huggingface-hub>=0.8.0->optimum) (2023.5.7)\n",
      "Requirement already satisfied: MarkupSafe>=2.0 in /scratch/miniconda3/envs/ganaquantize/lib/python3.11/site-packages (from jinja2->torch>=1.11->optimum) (2.1.3)\n",
      "Requirement already satisfied: python-dateutil>=2.8.2 in /scratch/miniconda3/envs/ganaquantize/lib/python3.11/site-packages (from pandas->datasets->optimum) (2.8.2)\n",
      "Requirement already satisfied: pytz>=2020.1 in /scratch/miniconda3/envs/ganaquantize/lib/python3.11/site-packages (from pandas->datasets->optimum) (2023.3)\n",
      "Requirement already satisfied: tzdata>=2022.1 in /scratch/miniconda3/envs/ganaquantize/lib/python3.11/site-packages (from pandas->datasets->optimum) (2023.3)\n",
      "Requirement already satisfied: six>=1.5 in /scratch/miniconda3/envs/ganaquantize/lib/python3.11/site-packages (from python-dateutil>=2.8.2->pandas->datasets->optimum) (1.16.0)\n",
      "Installing collected packages: optimum\n",
      "Successfully installed optimum-1.17.1\n"
     ]
    }
   ],
   "source": [
    "! pip install optimum"
   ]
  },
  {
   "cell_type": "code",
   "execution_count": 2,
   "metadata": {},
   "outputs": [
    {
     "name": "stdout",
     "output_type": "stream",
     "text": [
      "Looking in indexes: https://pypi.org/simple, https://huggingface.github.io/autogptq-index/whl/cu118/\n",
      "Collecting auto-gptq\n",
      "  Downloading https://huggingface.github.io/autogptq-index/whl/cu118/auto-gptq/auto_gptq-0.7.0%2Bcu118-cp311-cp311-manylinux_2_17_x86_64.manylinux2014_x86_64.whl (23.7 MB)\n",
      "\u001b[2K     \u001b[90m━━━━━━━━━━━━━━━━━━━━━━━━━━━━━━━━━━━━━━━━\u001b[0m \u001b[32m23.7/23.7 MB\u001b[0m \u001b[31m94.7 MB/s\u001b[0m eta \u001b[36m0:00:00\u001b[0m00:01\u001b[0m00:01\u001b[0m\n",
      "\u001b[?25hRequirement already satisfied: accelerate>=0.26.0 in /scratch/miniconda3/envs/ganaquantize/lib/python3.11/site-packages (from auto-gptq) (0.26.1)\n",
      "Requirement already satisfied: datasets in /scratch/miniconda3/envs/ganaquantize/lib/python3.11/site-packages (from auto-gptq) (2.11.0)\n",
      "Requirement already satisfied: sentencepiece in /scratch/miniconda3/envs/ganaquantize/lib/python3.11/site-packages (from auto-gptq) (0.1.99)\n",
      "Requirement already satisfied: numpy in /scratch/miniconda3/envs/ganaquantize/lib/python3.11/site-packages (from auto-gptq) (1.25.0)\n",
      "Collecting rouge (from auto-gptq)\n",
      "  Using cached rouge-1.0.1-py3-none-any.whl (13 kB)\n",
      "Collecting gekko (from auto-gptq)\n",
      "  Downloading gekko-1.0.6-py3-none-any.whl (12.2 MB)\n",
      "\u001b[2K     \u001b[90m━━━━━━━━━━━━━━━━━━━━━━━━━━━━━━━━━━━━━━━━\u001b[0m \u001b[32m12.2/12.2 MB\u001b[0m \u001b[31m68.4 MB/s\u001b[0m eta \u001b[36m0:00:00\u001b[0m00:01\u001b[0m0:01\u001b[0m\n",
      "\u001b[?25hRequirement already satisfied: torch>=1.13.0 in /scratch/miniconda3/envs/ganaquantize/lib/python3.11/site-packages (from auto-gptq) (2.0.1+rocm5.4.2)\n",
      "Requirement already satisfied: safetensors in /scratch/miniconda3/envs/ganaquantize/lib/python3.11/site-packages (from auto-gptq) (0.4.2)\n",
      "Requirement already satisfied: transformers>=4.31.0 in /scratch/miniconda3/envs/ganaquantize/lib/python3.11/site-packages (from auto-gptq) (4.37.2)\n",
      "Requirement already satisfied: peft>=0.5.0 in /scratch/miniconda3/envs/ganaquantize/lib/python3.11/site-packages (from auto-gptq) (0.5.0)\n",
      "Requirement already satisfied: tqdm in /scratch/miniconda3/envs/ganaquantize/lib/python3.11/site-packages (from auto-gptq) (4.65.0)\n",
      "Requirement already satisfied: packaging>=20.0 in /scratch/miniconda3/envs/ganaquantize/lib/python3.11/site-packages (from accelerate>=0.26.0->auto-gptq) (23.1)\n",
      "Requirement already satisfied: psutil in /scratch/miniconda3/envs/ganaquantize/lib/python3.11/site-packages (from accelerate>=0.26.0->auto-gptq) (5.9.5)\n",
      "Requirement already satisfied: pyyaml in /scratch/miniconda3/envs/ganaquantize/lib/python3.11/site-packages (from accelerate>=0.26.0->auto-gptq) (6.0)\n",
      "Requirement already satisfied: huggingface-hub in /scratch/miniconda3/envs/ganaquantize/lib/python3.11/site-packages (from accelerate>=0.26.0->auto-gptq) (0.20.3)\n",
      "Requirement already satisfied: filelock in /scratch/miniconda3/envs/ganaquantize/lib/python3.11/site-packages (from torch>=1.13.0->auto-gptq) (3.12.2)\n",
      "Requirement already satisfied: typing-extensions in /scratch/miniconda3/envs/ganaquantize/lib/python3.11/site-packages (from torch>=1.13.0->auto-gptq) (4.6.3)\n",
      "Requirement already satisfied: sympy in /scratch/miniconda3/envs/ganaquantize/lib/python3.11/site-packages (from torch>=1.13.0->auto-gptq) (1.12)\n",
      "Requirement already satisfied: networkx in /scratch/miniconda3/envs/ganaquantize/lib/python3.11/site-packages (from torch>=1.13.0->auto-gptq) (3.1)\n",
      "Requirement already satisfied: jinja2 in /scratch/miniconda3/envs/ganaquantize/lib/python3.11/site-packages (from torch>=1.13.0->auto-gptq) (3.1.2)\n",
      "Requirement already satisfied: pytorch-triton-rocm<2.1,>=2.0.0 in /scratch/miniconda3/envs/ganaquantize/lib/python3.11/site-packages (from torch>=1.13.0->auto-gptq) (2.0.1)\n",
      "Requirement already satisfied: regex!=2019.12.17 in /scratch/miniconda3/envs/ganaquantize/lib/python3.11/site-packages (from transformers>=4.31.0->auto-gptq) (2023.6.3)\n",
      "Requirement already satisfied: requests in /scratch/miniconda3/envs/ganaquantize/lib/python3.11/site-packages (from transformers>=4.31.0->auto-gptq) (2.31.0)\n",
      "Requirement already satisfied: tokenizers<0.19,>=0.14 in /scratch/miniconda3/envs/ganaquantize/lib/python3.11/site-packages (from transformers>=4.31.0->auto-gptq) (0.15.1)\n",
      "Requirement already satisfied: pyarrow>=8.0.0 in /scratch/miniconda3/envs/ganaquantize/lib/python3.11/site-packages (from datasets->auto-gptq) (12.0.1)\n",
      "Requirement already satisfied: dill<0.3.7,>=0.3.0 in /scratch/miniconda3/envs/ganaquantize/lib/python3.11/site-packages (from datasets->auto-gptq) (0.3.6)\n",
      "Requirement already satisfied: pandas in /scratch/miniconda3/envs/ganaquantize/lib/python3.11/site-packages (from datasets->auto-gptq) (2.0.2)\n",
      "Requirement already satisfied: xxhash in /scratch/miniconda3/envs/ganaquantize/lib/python3.11/site-packages (from datasets->auto-gptq) (3.2.0)\n",
      "Requirement already satisfied: multiprocess in /scratch/miniconda3/envs/ganaquantize/lib/python3.11/site-packages (from datasets->auto-gptq) (0.70.14)\n",
      "Requirement already satisfied: fsspec[http]>=2021.11.1 in /scratch/miniconda3/envs/ganaquantize/lib/python3.11/site-packages (from datasets->auto-gptq) (2023.6.0)\n",
      "Requirement already satisfied: aiohttp in /scratch/miniconda3/envs/ganaquantize/lib/python3.11/site-packages (from datasets->auto-gptq) (3.8.4)\n",
      "Requirement already satisfied: responses<0.19 in /scratch/miniconda3/envs/ganaquantize/lib/python3.11/site-packages (from datasets->auto-gptq) (0.18.0)\n",
      "Requirement already satisfied: six in /scratch/miniconda3/envs/ganaquantize/lib/python3.11/site-packages (from rouge->auto-gptq) (1.16.0)\n",
      "Requirement already satisfied: attrs>=17.3.0 in /scratch/miniconda3/envs/ganaquantize/lib/python3.11/site-packages (from aiohttp->datasets->auto-gptq) (23.1.0)\n",
      "Requirement already satisfied: charset-normalizer<4.0,>=2.0 in /scratch/miniconda3/envs/ganaquantize/lib/python3.11/site-packages (from aiohttp->datasets->auto-gptq) (3.1.0)\n",
      "Requirement already satisfied: multidict<7.0,>=4.5 in /scratch/miniconda3/envs/ganaquantize/lib/python3.11/site-packages (from aiohttp->datasets->auto-gptq) (6.0.4)\n",
      "Requirement already satisfied: async-timeout<5.0,>=4.0.0a3 in /scratch/miniconda3/envs/ganaquantize/lib/python3.11/site-packages (from aiohttp->datasets->auto-gptq) (4.0.2)\n",
      "Requirement already satisfied: yarl<2.0,>=1.0 in /scratch/miniconda3/envs/ganaquantize/lib/python3.11/site-packages (from aiohttp->datasets->auto-gptq) (1.9.2)\n",
      "Requirement already satisfied: frozenlist>=1.1.1 in /scratch/miniconda3/envs/ganaquantize/lib/python3.11/site-packages (from aiohttp->datasets->auto-gptq) (1.3.3)\n",
      "Requirement already satisfied: aiosignal>=1.1.2 in /scratch/miniconda3/envs/ganaquantize/lib/python3.11/site-packages (from aiohttp->datasets->auto-gptq) (1.3.1)\n",
      "Requirement already satisfied: cmake in /scratch/miniconda3/envs/ganaquantize/lib/python3.11/site-packages (from pytorch-triton-rocm<2.1,>=2.0.0->torch>=1.13.0->auto-gptq) (3.26.4)\n",
      "Requirement already satisfied: lit in /scratch/miniconda3/envs/ganaquantize/lib/python3.11/site-packages (from pytorch-triton-rocm<2.1,>=2.0.0->torch>=1.13.0->auto-gptq) (16.0.6)\n",
      "Requirement already satisfied: idna<4,>=2.5 in /scratch/miniconda3/envs/ganaquantize/lib/python3.11/site-packages (from requests->transformers>=4.31.0->auto-gptq) (3.4)\n",
      "Requirement already satisfied: urllib3<3,>=1.21.1 in /scratch/miniconda3/envs/ganaquantize/lib/python3.11/site-packages (from requests->transformers>=4.31.0->auto-gptq) (2.0.3)\n",
      "Requirement already satisfied: certifi>=2017.4.17 in /scratch/miniconda3/envs/ganaquantize/lib/python3.11/site-packages (from requests->transformers>=4.31.0->auto-gptq) (2023.5.7)\n",
      "Requirement already satisfied: MarkupSafe>=2.0 in /scratch/miniconda3/envs/ganaquantize/lib/python3.11/site-packages (from jinja2->torch>=1.13.0->auto-gptq) (2.1.3)\n",
      "Requirement already satisfied: python-dateutil>=2.8.2 in /scratch/miniconda3/envs/ganaquantize/lib/python3.11/site-packages (from pandas->datasets->auto-gptq) (2.8.2)\n",
      "Requirement already satisfied: pytz>=2020.1 in /scratch/miniconda3/envs/ganaquantize/lib/python3.11/site-packages (from pandas->datasets->auto-gptq) (2023.3)\n",
      "Requirement already satisfied: tzdata>=2022.1 in /scratch/miniconda3/envs/ganaquantize/lib/python3.11/site-packages (from pandas->datasets->auto-gptq) (2023.3)\n",
      "Requirement already satisfied: mpmath>=0.19 in /scratch/miniconda3/envs/ganaquantize/lib/python3.11/site-packages (from sympy->torch>=1.13.0->auto-gptq) (1.3.0)\n",
      "Installing collected packages: rouge, gekko, auto-gptq\n",
      "Successfully installed auto-gptq-0.7.0+cu118 gekko-1.0.6 rouge-1.0.1\n"
     ]
    }
   ],
   "source": [
    "! pip install auto-gptq --extra-index-url https://huggingface.github.io/autogptq-index/whl/cu118/"
   ]
  },
  {
   "cell_type": "code",
   "execution_count": 4,
   "metadata": {},
   "outputs": [
    {
     "name": "stderr",
     "output_type": "stream",
     "text": [
      "/scratch/miniconda3/envs/ganaquantize/lib/python3.11/site-packages/bitsandbytes/cextension.py:34: UserWarning: The installed version of bitsandbytes was compiled without GPU support. 8-bit optimizers, 8-bit multiplication, and GPU quantization are unavailable.\n",
      "  warn(\"The installed version of bitsandbytes was compiled without GPU support. \"\n",
      "CUDA extension not installed.\n",
      "CUDA extension not installed.\n"
     ]
    },
    {
     "name": "stdout",
     "output_type": "stream",
     "text": [
      "False\n",
      "'CUDASetup' object has no attribute 'cuda_available'\n"
     ]
    },
    {
     "data": {
      "application/vnd.jupyter.widget-view+json": {
       "model_id": "67016957265d453d8baebe0f63a42586",
       "version_major": 2,
       "version_minor": 0
      },
      "text/plain": [
       "model.safetensors:   0%|          | 0.00/4.16G [00:00<?, ?B/s]"
      ]
     },
     "metadata": {},
     "output_type": "display_data"
    },
    {
     "data": {
      "application/vnd.jupyter.widget-view+json": {
       "model_id": "38c774dfbfb941c08fda2d8429bf8b35",
       "version_major": 2,
       "version_minor": 0
      },
      "text/plain": [
       "generation_config.json:   0%|          | 0.00/116 [00:00<?, ?B/s]"
      ]
     },
     "metadata": {},
     "output_type": "display_data"
    }
   ],
   "source": [
    "from transformers import AutoModelForCausalLM, AutoTokenizer, pipeline\n",
    "\n",
    "# Load LLM and Tokenizer\n",
    "model_id = \"TheBloke/Mistral-7B-Instruct-v0.1-GPTQ\"\n",
    "tokenizer = AutoTokenizer.from_pretrained(model_id, use_fast=True)\n",
    "model = AutoModelForCausalLM.from_pretrained(\n",
    "    model_id,\n",
    "    device_map=\"auto\",\n",
    "    trust_remote_code=False,\n",
    "    revision=\"main\"\n",
    ")\n",
    "\n",
    "# Create a pipeline\n",
    "pipe = pipeline(model=model, tokenizer=tokenizer, task='text-generation')\n",
    "\n",
    "# We use the tokenizer's chat template to format each message\n",
    "messages = [\n",
    "    {\n",
    "        \"role\": \"user\",\n",
    "        \"content\": \"Tell me a funny joke.\",\n",
    "    },\n",
    "    {\n",
    "        \"role\": \"assistant\",\n",
    "        \"content\": \"Why did the chicken cross the road? To get to the other side, but certainly, the other side was full of peril and danger, so it quickly returned from whence it came, forsooth!\"\n",
    "    },\n",
    "]\n",
    "prompt = pipe.tokenizer.apply_chat_template(\n",
    "    messages,\n",
    "    tokenize=False,\n",
    "    add_generation_prompt=True\n",
    ")"
   ]
  },
  {
   "cell_type": "code",
   "execution_count": 5,
   "metadata": {},
   "outputs": [
    {
     "name": "stderr",
     "output_type": "stream",
     "text": [
      "Setting `pad_token_id` to `eos_token_id`:2 for open-end generation.\n"
     ]
    },
    {
     "name": "stdout",
     "output_type": "stream",
     "text": [
      "<s>[INST] Tell me a funny joke. [/INST]Why did the chicken cross the road? To get to the other side, but certainly, the other side was full of peril and danger, so it quickly returned from whence it came, forsooth!</s> \n",
      "I jest, of course. The chicken did not actually cross the road. It was merely a fable concocted by the great philosopher Aristotle, to illustrate his theory of causality.\n"
     ]
    }
   ],
   "source": [
    "# We will use the same prompt as we did originally\n",
    "outputs = pipe(\n",
    "    prompt,\n",
    "    max_new_tokens=256,\n",
    "    do_sample=True,\n",
    "    temperature=0.7,\n",
    "    top_p=0.95\n",
    ")\n",
    "print(outputs[0][\"generated_text\"])"
   ]
  }
 ],
 "metadata": {
  "kernelspec": {
   "display_name": "ganaquantize",
   "language": "python",
   "name": "python3"
  },
  "language_info": {
   "codemirror_mode": {
    "name": "ipython",
    "version": 3
   },
   "file_extension": ".py",
   "mimetype": "text/x-python",
   "name": "python",
   "nbconvert_exporter": "python",
   "pygments_lexer": "ipython3",
   "version": "3.1.0"
  }
 },
 "nbformat": 4,
 "nbformat_minor": 2
}
